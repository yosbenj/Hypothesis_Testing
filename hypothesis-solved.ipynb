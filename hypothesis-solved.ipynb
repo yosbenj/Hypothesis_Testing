{
 "cells": [
  {
   "cell_type": "markdown",
   "metadata": {},
   "source": [
    "# Before you start:\n",
    "\n",
    "- Comment as much as you can \n",
    "- Always state the H0 and H1 before conducting the hypothesis test."
   ]
  },
  {
   "cell_type": "code",
   "execution_count": 1,
   "metadata": {},
   "outputs": [],
   "source": [
    "import pandas as pd\n",
    "import numpy as np"
   ]
  },
  {
   "cell_type": "markdown",
   "metadata": {},
   "source": [
    "# Challenge 1 - Exploring the Data\n",
    "\n",
    "### In this challenge, we will examine all salaries of employees of the City of Chicago. We will start by loading the dataset and examining its contents. "
   ]
  },
  {
   "cell_type": "code",
   "execution_count": 2,
   "metadata": {},
   "outputs": [],
   "source": [
    "salaries_df = pd.read_csv(\"Current_Employee_Names__Salaries__and_Position_Titles.csv\")"
   ]
  },
  {
   "cell_type": "markdown",
   "metadata": {},
   "source": [
    "Examine the `salaries` dataset using the `head` function below."
   ]
  },
  {
   "cell_type": "code",
   "execution_count": 3,
   "metadata": {},
   "outputs": [
    {
     "data": {
      "text/html": [
       "<div>\n",
       "<style scoped>\n",
       "    .dataframe tbody tr th:only-of-type {\n",
       "        vertical-align: middle;\n",
       "    }\n",
       "\n",
       "    .dataframe tbody tr th {\n",
       "        vertical-align: top;\n",
       "    }\n",
       "\n",
       "    .dataframe thead th {\n",
       "        text-align: right;\n",
       "    }\n",
       "</style>\n",
       "<table border=\"1\" class=\"dataframe\">\n",
       "  <thead>\n",
       "    <tr style=\"text-align: right;\">\n",
       "      <th></th>\n",
       "      <th>Name</th>\n",
       "      <th>Job Titles</th>\n",
       "      <th>Department</th>\n",
       "      <th>Full or Part-Time</th>\n",
       "      <th>Salary or Hourly</th>\n",
       "      <th>Typical Hours</th>\n",
       "      <th>Annual Salary</th>\n",
       "      <th>Hourly Rate</th>\n",
       "    </tr>\n",
       "  </thead>\n",
       "  <tbody>\n",
       "    <tr>\n",
       "      <th>0</th>\n",
       "      <td>ADRIANO,  RACQUEL ANNE</td>\n",
       "      <td>PARAMEDIC</td>\n",
       "      <td>FIRE</td>\n",
       "      <td>F</td>\n",
       "      <td>Salary</td>\n",
       "      <td>NaN</td>\n",
       "      <td>72510.0</td>\n",
       "      <td>NaN</td>\n",
       "    </tr>\n",
       "    <tr>\n",
       "      <th>1</th>\n",
       "      <td>AFFANEH,  MAHIR A</td>\n",
       "      <td>POLICE OFFICER</td>\n",
       "      <td>POLICE</td>\n",
       "      <td>F</td>\n",
       "      <td>Salary</td>\n",
       "      <td>NaN</td>\n",
       "      <td>93354.0</td>\n",
       "      <td>NaN</td>\n",
       "    </tr>\n",
       "    <tr>\n",
       "      <th>2</th>\n",
       "      <td>AFOENYI,  PHYLLIS</td>\n",
       "      <td>TITLE V PROGRAM TRAINEE I</td>\n",
       "      <td>FAMILY &amp; SUPPORT</td>\n",
       "      <td>P</td>\n",
       "      <td>Hourly</td>\n",
       "      <td>20.0</td>\n",
       "      <td>NaN</td>\n",
       "      <td>13.0</td>\n",
       "    </tr>\n",
       "    <tr>\n",
       "      <th>3</th>\n",
       "      <td>AGAR,  BULENT B</td>\n",
       "      <td>DEPUTY COMMISSIONER</td>\n",
       "      <td>WATER MGMNT</td>\n",
       "      <td>F</td>\n",
       "      <td>Salary</td>\n",
       "      <td>NaN</td>\n",
       "      <td>132972.0</td>\n",
       "      <td>NaN</td>\n",
       "    </tr>\n",
       "    <tr>\n",
       "      <th>4</th>\n",
       "      <td>AGEE,  LAWRENCE</td>\n",
       "      <td>POLICE OFFICER</td>\n",
       "      <td>POLICE</td>\n",
       "      <td>F</td>\n",
       "      <td>Salary</td>\n",
       "      <td>NaN</td>\n",
       "      <td>90024.0</td>\n",
       "      <td>NaN</td>\n",
       "    </tr>\n",
       "  </tbody>\n",
       "</table>\n",
       "</div>"
      ],
      "text/plain": [
       "                     Name                 Job Titles        Department  \\\n",
       "0  ADRIANO,  RACQUEL ANNE                  PARAMEDIC              FIRE   \n",
       "1       AFFANEH,  MAHIR A             POLICE OFFICER            POLICE   \n",
       "2       AFOENYI,  PHYLLIS  TITLE V PROGRAM TRAINEE I  FAMILY & SUPPORT   \n",
       "3         AGAR,  BULENT B        DEPUTY COMMISSIONER       WATER MGMNT   \n",
       "4         AGEE,  LAWRENCE             POLICE OFFICER            POLICE   \n",
       "\n",
       "  Full or Part-Time Salary or Hourly  Typical Hours  Annual Salary  \\\n",
       "0                 F           Salary            NaN        72510.0   \n",
       "1                 F           Salary            NaN        93354.0   \n",
       "2                 P           Hourly           20.0            NaN   \n",
       "3                 F           Salary            NaN       132972.0   \n",
       "4                 F           Salary            NaN        90024.0   \n",
       "\n",
       "   Hourly Rate  \n",
       "0          NaN  \n",
       "1          NaN  \n",
       "2         13.0  \n",
       "3          NaN  \n",
       "4          NaN  "
      ]
     },
     "execution_count": 3,
     "metadata": {},
     "output_type": "execute_result"
    }
   ],
   "source": [
    "salaries_df.head()"
   ]
  },
  {
   "cell_type": "markdown",
   "metadata": {},
   "source": [
    "### We see from looking at the `head` function that there is quite a bit of missing data. Let's examine how much missing data is in each column. Produce this output in the cell below"
   ]
  },
  {
   "cell_type": "code",
   "execution_count": 4,
   "metadata": {},
   "outputs": [
    {
     "data": {
      "text/plain": [
       "Name                     0\n",
       "Job Titles               0\n",
       "Department               0\n",
       "Full or Part-Time        0\n",
       "Salary or Hourly         0\n",
       "Typical Hours        25528\n",
       "Annual Salary         8174\n",
       "Hourly Rate          25528\n",
       "dtype: int64"
      ]
     },
     "execution_count": 4,
     "metadata": {},
     "output_type": "execute_result"
    }
   ],
   "source": [
    "salaries_df.isnull().sum()"
   ]
  },
  {
   "cell_type": "markdown",
   "metadata": {},
   "source": [
    "### Let's also look at the count of hourly vs. salaried employees. Write the code in the cell below"
   ]
  },
  {
   "cell_type": "code",
   "execution_count": 5,
   "metadata": {},
   "outputs": [
    {
     "data": {
      "text/plain": [
       "Salary    25528\n",
       "Hourly     8174\n",
       "Name: Salary or Hourly, dtype: int64"
      ]
     },
     "execution_count": 5,
     "metadata": {},
     "output_type": "execute_result"
    }
   ],
   "source": [
    "salaries_df[\"Salary or Hourly\"].value_counts()"
   ]
  },
  {
   "cell_type": "code",
   "execution_count": 6,
   "metadata": {},
   "outputs": [
    {
     "data": {
      "image/png": "[encoded data removed]",
      "text/plain": [
       "<Figure size 800x600 with 1 Axes>"
      ]
     },
     "metadata": {},
     "output_type": "display_data"
    }
   ],
   "source": [
    "import matplotlib.pyplot as plt\n",
    "\n",
    "# Count hourly and salaried employees\n",
    "employee_counts = salaries_df[\"Salary or Hourly\"].value_counts()\n",
    "\n",
    "# Create a bar chart\n",
    "plt.figure(figsize=(8, 6))\n",
    "employee_counts.plot(kind=\"bar\", color=[\"lightblue\", \"lavender\"])\n",
    "plt.xlabel(\"Salary Type\")\n",
    "plt.ylabel(\"Number of Employees\")\n",
    "plt.xticks(rotation=0)  # To display labels on the x-axis horizontally\n",
    "plt.show()"
   ]
  },
  {
   "cell_type": "markdown",
   "metadata": {},
   "source": [
    "What this information indicates is that the table contains information about two types of employees - salaried and hourly. Some columns apply only to one type of employee while other columns only apply to another kind. This is why there are so many missing values. Therefore, we will not do anything to handle the missing values."
   ]
  },
  {
   "cell_type": "markdown",
   "metadata": {},
   "source": [
    "### There are different departments in the city. List all departments and the count of employees in each department."
   ]
  },
  {
   "cell_type": "code",
   "execution_count": 7,
   "metadata": {},
   "outputs": [
    {
     "data": {
      "text/plain": [
       "Department\n",
       "ADMIN HEARNG              38\n",
       "ANIMAL CONTRL             75\n",
       "AVIATION                1856\n",
       "BOARD OF ELECTION        111\n",
       "BOARD OF ETHICS            8\n",
       "BUDGET & MGMT             44\n",
       "BUILDINGS                258\n",
       "BUSINESS AFFAIRS         167\n",
       "CITY CLERK                88\n",
       "CITY COUNCIL             362\n",
       "COPA                     123\n",
       "CULTURAL AFFAIRS          74\n",
       "DAIS                    1033\n",
       "DISABILITIES              28\n",
       "FAMILY & SUPPORT         656\n",
       "FINANCE                  544\n",
       "FIRE                    4627\n",
       "HEALTH                   467\n",
       "HOUSING                   66\n",
       "HOUSING & ECON DEV       154\n",
       "HUMAN RELATIONS           17\n",
       "HUMAN RESOURCES           75\n",
       "INSPECTOR GEN             95\n",
       "LAW                      398\n",
       "LICENSE APPL COMM          1\n",
       "MAYOR'S OFFICE           104\n",
       "OEMC                    1737\n",
       "POLICE                 13848\n",
       "POLICE BOARD               2\n",
       "PROCUREMENT               84\n",
       "PUBLIC LIBRARY          1088\n",
       "PUBLIC SAFETY ADMIN      244\n",
       "STREETS & SAN           2175\n",
       "TRANSPORTN              1113\n",
       "TREASURER                 28\n",
       "WATER MGMNT             1914\n",
       "Name: Name, dtype: int64"
      ]
     },
     "execution_count": 7,
     "metadata": {},
     "output_type": "execute_result"
    }
   ],
   "source": [
    "salaries_df.groupby(\"Department\")[\"Name\"].count()"
   ]
  },
  {
   "cell_type": "markdown",
   "metadata": {},
   "source": [
    "# Challenge 2 - Hypothesis Tests\n",
    "\n",
    "### In this section of the lab, we will test whether the hourly wage of all hourly workers is significantly different from $30/hr. Import the correct one sample test function from scipy and perform the hypothesis test for a 95% two sided confidence interval."
   ]
  },
  {
   "cell_type": "code",
   "execution_count": 8,
   "metadata": {},
   "outputs": [],
   "source": [
    "# Import the scipy.stats library for hypothesis testing\n",
    "import scipy.stats as stats"
   ]
  },
  {
   "cell_type": "markdown",
   "metadata": {},
   "source": [
    "#### - Null Hypothesis (H0): hourly wage of all hourly workers = $30/hr\n",
    "\n",
    "#### - Alternative Hypothesis (H1): hourly wage of all hourly workers <> $30/hr"
   ]
  },
  {
   "cell_type": "markdown",
   "metadata": {},
   "source": [
    "A \"one sample test\" with a \"two-sided confidence interval\" is being conducted on the hourly wage of workers to determine if it is significantly different from 30 dollars per hour. This means that we are testing whether the mean hourly wage is significantly different from 30 dollars per hour, and we are using a two-sided confidence interval to assess this difference.\n",
    "\n",
    "The interval is constructed in such a way that there is a 95% confidence that the true parameter value lies within the interval. Therefore, it is an interval that accommodates both higher and lower values based on the data distribution and the selected confidence level."
   ]
  },
  {
   "cell_type": "markdown",
   "metadata": {},
   "source": [
    "In the code below, \"alpha\" is calculated by subtracting the confidence level (\"confidence_level\") from 1. This is because the confidence level is typically expressed as a number between 0 and 1, where a 95% confidence level would be represented as 0.95. By subtracting this value from 1, we obtain the \"alpha\" value, which would be 0.05 in this case.\n",
    "\n",
    "An \"alpha\" value of 0.05 means that we are willing to accept a 5% probability of making a Type I error when rejecting a true null hypothesis. In other words, we are willing to claim that there is sufficient evidence to reject the null hypothesis if the result of a test is very unlikely to occur by chance (less than a 5% probability). This \"alpha\" value is an important part of decision-making in statistical hypothesis tests."
   ]
  },
  {
   "cell_type": "code",
   "execution_count": 9,
   "metadata": {},
   "outputs": [
    {
     "name": "stdout",
     "output_type": "stream",
     "text": [
      "The null hypothesis is rejected. Hourly wages are significantly different from $30/hr.\n"
     ]
    }
   ],
   "source": [
    "# Define the confidence level (95% in this case)\n",
    "confidence_level = 0.95\n",
    "\n",
    "# Define the hourly rate to be compared\n",
    "expected_hourly_rate = 30  # Expected hourly rate of $30/hr\n",
    "\n",
    "# Select the hourly wages of hourly workers\n",
    "hourly_wage = salaries_df[salaries_df[\"Salary or Hourly\"] == \"Hourly\"][\"Hourly Rate\"]\n",
    "\n",
    "# Perform a one-sample hypothesis test\n",
    "# H0: The average hourly wage of hourly workers is equal to $30/hr\n",
    "# H1: The average hourly wage of hourly workers is different from $30/hr\n",
    "# Use a two-tailed one-sample t-test\n",
    "# p-value will be the probability that the average hourly wage is equal to $30/hr\n",
    "statistic, p_value = stats.ttest_1samp(hourly_wage, expected_hourly_rate)\n",
    "\n",
    "# Calculate the critical value for the confidence level\n",
    "alpha = 1 - confidence_level\n",
    "\n",
    "# Determine whether to reject the null hypothesis\n",
    "if p_value < alpha:\n",
    "    # Reject the null hypothesis, indicating that hourly wages are significantly different from $30/hr\n",
    "    print(\"The null hypothesis is rejected. Hourly wages are significantly different from $30/hr.\")\n",
    "else:\n",
    "    # Fail to reject the null hypothesis, indicating that there is not enough evidence to claim that hourly wages are different from $30/hr\n",
    "    print(\"The null hypothesis is not rejected. There is not enough evidence to claim that hourly wages are different from $30/hr.\")"
   ]
  },
  {
   "cell_type": "code",
   "execution_count": 10,
   "metadata": {},
   "outputs": [
    {
     "name": "stdout",
     "output_type": "stream",
     "text": [
      "p_value is: 3.825475847673794e-202\n"
     ]
    }
   ],
   "source": [
    "# We can see that p_value is very low so we reject H0\n",
    "\n",
    "print(\"p_value is:\", p_value)"
   ]
  },
  {
   "cell_type": "markdown",
   "metadata": {},
   "source": [
    "### We are also curious about salaries in the police force. The chief of police in Chicago claimed in a press briefing that salaries this year are higher than last year's mean of $86000/year a year for all salaried employees. Test this one sided hypothesis using a 95% confidence interval.\n",
    "\n",
    "### Hint: A one tailed test has a p-value that is half of the two tailed p-value. If our Null hypothesis is less than or equal to, then to reject, the test statistic must be positive (rejects the <) and the p-value below 0.05 (rejects the =)."
   ]
  },
  {
   "cell_type": "markdown",
   "metadata": {},
   "source": [
    "#### - Null Hypothesis (H0): salaries this year <= last year's mean of  $86000/year a year for all salaried employees\n",
    "\n",
    "#### - Alternative Hypothesis (H1): salaries this year > last year's mean of  $86000/year a year for all salaried employees"
   ]
  },
  {
   "cell_type": "markdown",
   "metadata": {},
   "source": [
    "To interpret the results of the hypothesis test in this context,\n",
    "\n",
    "If we want to reject this null hypothesis (meaning we believe that salaries are greater than 86,000 dollars per year), we need two things:\n",
    "\n",
    "- a. The test statistic must be positive. This means that the difference between the sample mean and 86,000 dollars must be greater than zero.\n",
    "\n",
    "- b. The \"p-value\" must be less than 0.05 (a commonly used level of significance). This means that the probability of obtaining the observed results if the null hypothesis is true must be very low.\n",
    "\n",
    "So, in summary, **to reject the null hypothesis in a one-tailed test, we need the test statistic to be positive and the \"p-value\" to be less than 0.05**. If we obtain these results, we would have evidence to support the claim that salaries are greater than 86,000 dollars per year in the police force."
   ]
  },
  {
   "cell_type": "markdown",
   "metadata": {},
   "source": [
    "The code bellow performs a one-tailed t-test to determine if salaries in the police force are significantly higher than 86,000 dollars per year. If the test statistic is positive and the p-value is less than 0.05 (alpha), we reject the null hypothesis and conclude that salaries are significantly higher. Otherwise, we fail to reject the null hypothesis."
   ]
  },
  {
   "cell_type": "code",
   "execution_count": 11,
   "metadata": {},
   "outputs": [
    {
     "name": "stdout",
     "output_type": "stream",
     "text": [
      "We reject the null hypothesis.\n",
      "Salaries in the police force are significantly higher than $86,000/year.\n"
     ]
    }
   ],
   "source": [
    "# Define the null hypothesis (H0) and alternative hypothesis (H1)\n",
    "# H0: Salaries this year are less than or equal to $86,000/year\n",
    "# H1: Salaries this year are higher than $86,000/year\n",
    "# This is a one-tailed test where we are interested in the upper tail.\n",
    "\n",
    "# Set the significance level (alpha) for a 95% confidence interval\n",
    "alpha = 0.05\n",
    "\n",
    "# Filter the data to get salaries in the police force\n",
    "police_salaries = salaries_df[(salaries_df[\"Department\"] == \"POLICE\") & (salaries_df[\"Salary or Hourly\"] == \"Salary\")][\"Annual Salary\"]\n",
    "\n",
    "# Calculate the mean salary of police employees\n",
    "police_mean_salary = police_salaries.mean()\n",
    "\n",
    "# Perform a one-sample t-test\n",
    "# We specify the population mean as $86,000\n",
    "# and the alternative as \"greater\" since we are testing if salaries are higher.\n",
    "t_statistic, p_value = stats.ttest_1samp(police_salaries, 86000, alternative=\"greater\")\n",
    "\n",
    "# Check if the test statistic is positive and the p-value is less than alpha\n",
    "if t_statistic > 0 and p_value < alpha:\n",
    "    # Reject the null hypothesis\n",
    "    print(\"We reject the null hypothesis.\")\n",
    "    print(\"Salaries in the police force are significantly higher than $86,000/year.\")\n",
    "else:\n",
    "    # Fail to reject the null hypothesis\n",
    "    print(\"We fail to reject the null hypothesis.\")\n",
    "    print(\"There is not enough evidence to conclude that salaries in the police force are significantly higher than $86,000/year.\")"
   ]
  },
  {
   "cell_type": "markdown",
   "metadata": {},
   "source": [
    "### Using the `crosstab` function, find the department that has the most hourly workers. "
   ]
  },
  {
   "cell_type": "code",
   "execution_count": 12,
   "metadata": {},
   "outputs": [
    {
     "data": {
      "text/html": [
       "<div>\n",
       "<style scoped>\n",
       "    .dataframe tbody tr th:only-of-type {\n",
       "        vertical-align: middle;\n",
       "    }\n",
       "\n",
       "    .dataframe tbody tr th {\n",
       "        vertical-align: top;\n",
       "    }\n",
       "\n",
       "    .dataframe thead th {\n",
       "        text-align: right;\n",
       "    }\n",
       "</style>\n",
       "<table border=\"1\" class=\"dataframe\">\n",
       "  <thead>\n",
       "    <tr style=\"text-align: right;\">\n",
       "      <th>Salary or Hourly</th>\n",
       "      <th>Hourly</th>\n",
       "      <th>Salary</th>\n",
       "    </tr>\n",
       "    <tr>\n",
       "      <th>Department</th>\n",
       "      <th></th>\n",
       "      <th></th>\n",
       "    </tr>\n",
       "  </thead>\n",
       "  <tbody>\n",
       "    <tr>\n",
       "      <th>ADMIN HEARNG</th>\n",
       "      <td>0</td>\n",
       "      <td>38</td>\n",
       "    </tr>\n",
       "    <tr>\n",
       "      <th>ANIMAL CONTRL</th>\n",
       "      <td>12</td>\n",
       "      <td>63</td>\n",
       "    </tr>\n",
       "    <tr>\n",
       "      <th>AVIATION</th>\n",
       "      <td>1214</td>\n",
       "      <td>642</td>\n",
       "    </tr>\n",
       "    <tr>\n",
       "      <th>BOARD OF ELECTION</th>\n",
       "      <td>0</td>\n",
       "      <td>111</td>\n",
       "    </tr>\n",
       "    <tr>\n",
       "      <th>BOARD OF ETHICS</th>\n",
       "      <td>0</td>\n",
       "      <td>8</td>\n",
       "    </tr>\n",
       "    <tr>\n",
       "      <th>BUDGET &amp; MGMT</th>\n",
       "      <td>2</td>\n",
       "      <td>42</td>\n",
       "    </tr>\n",
       "    <tr>\n",
       "      <th>BUILDINGS</th>\n",
       "      <td>0</td>\n",
       "      <td>258</td>\n",
       "    </tr>\n",
       "    <tr>\n",
       "      <th>BUSINESS AFFAIRS</th>\n",
       "      <td>7</td>\n",
       "      <td>160</td>\n",
       "    </tr>\n",
       "    <tr>\n",
       "      <th>CITY CLERK</th>\n",
       "      <td>0</td>\n",
       "      <td>88</td>\n",
       "    </tr>\n",
       "    <tr>\n",
       "      <th>CITY COUNCIL</th>\n",
       "      <td>74</td>\n",
       "      <td>288</td>\n",
       "    </tr>\n",
       "    <tr>\n",
       "      <th>COPA</th>\n",
       "      <td>0</td>\n",
       "      <td>123</td>\n",
       "    </tr>\n",
       "    <tr>\n",
       "      <th>CULTURAL AFFAIRS</th>\n",
       "      <td>10</td>\n",
       "      <td>64</td>\n",
       "    </tr>\n",
       "    <tr>\n",
       "      <th>DAIS</th>\n",
       "      <td>745</td>\n",
       "      <td>288</td>\n",
       "    </tr>\n",
       "    <tr>\n",
       "      <th>DISABILITIES</th>\n",
       "      <td>1</td>\n",
       "      <td>27</td>\n",
       "    </tr>\n",
       "    <tr>\n",
       "      <th>FAMILY &amp; SUPPORT</th>\n",
       "      <td>357</td>\n",
       "      <td>299</td>\n",
       "    </tr>\n",
       "    <tr>\n",
       "      <th>FINANCE</th>\n",
       "      <td>45</td>\n",
       "      <td>499</td>\n",
       "    </tr>\n",
       "    <tr>\n",
       "      <th>FIRE</th>\n",
       "      <td>0</td>\n",
       "      <td>4627</td>\n",
       "    </tr>\n",
       "    <tr>\n",
       "      <th>HEALTH</th>\n",
       "      <td>2</td>\n",
       "      <td>465</td>\n",
       "    </tr>\n",
       "    <tr>\n",
       "      <th>HOUSING</th>\n",
       "      <td>0</td>\n",
       "      <td>66</td>\n",
       "    </tr>\n",
       "    <tr>\n",
       "      <th>HOUSING &amp; ECON DEV</th>\n",
       "      <td>3</td>\n",
       "      <td>151</td>\n",
       "    </tr>\n",
       "    <tr>\n",
       "      <th>HUMAN RELATIONS</th>\n",
       "      <td>0</td>\n",
       "      <td>17</td>\n",
       "    </tr>\n",
       "    <tr>\n",
       "      <th>HUMAN RESOURCES</th>\n",
       "      <td>0</td>\n",
       "      <td>75</td>\n",
       "    </tr>\n",
       "    <tr>\n",
       "      <th>INSPECTOR GEN</th>\n",
       "      <td>0</td>\n",
       "      <td>95</td>\n",
       "    </tr>\n",
       "    <tr>\n",
       "      <th>LAW</th>\n",
       "      <td>48</td>\n",
       "      <td>350</td>\n",
       "    </tr>\n",
       "    <tr>\n",
       "      <th>LICENSE APPL COMM</th>\n",
       "      <td>0</td>\n",
       "      <td>1</td>\n",
       "    </tr>\n",
       "    <tr>\n",
       "      <th>MAYOR'S OFFICE</th>\n",
       "      <td>17</td>\n",
       "      <td>87</td>\n",
       "    </tr>\n",
       "    <tr>\n",
       "      <th>OEMC</th>\n",
       "      <td>1077</td>\n",
       "      <td>660</td>\n",
       "    </tr>\n",
       "    <tr>\n",
       "      <th>POLICE</th>\n",
       "      <td>24</td>\n",
       "      <td>13824</td>\n",
       "    </tr>\n",
       "    <tr>\n",
       "      <th>POLICE BOARD</th>\n",
       "      <td>0</td>\n",
       "      <td>2</td>\n",
       "    </tr>\n",
       "    <tr>\n",
       "      <th>PROCUREMENT</th>\n",
       "      <td>2</td>\n",
       "      <td>82</td>\n",
       "    </tr>\n",
       "    <tr>\n",
       "      <th>PUBLIC LIBRARY</th>\n",
       "      <td>356</td>\n",
       "      <td>732</td>\n",
       "    </tr>\n",
       "    <tr>\n",
       "      <th>PUBLIC SAFETY ADMIN</th>\n",
       "      <td>48</td>\n",
       "      <td>196</td>\n",
       "    </tr>\n",
       "    <tr>\n",
       "      <th>STREETS &amp; SAN</th>\n",
       "      <td>1846</td>\n",
       "      <td>329</td>\n",
       "    </tr>\n",
       "    <tr>\n",
       "      <th>TRANSPORTN</th>\n",
       "      <td>726</td>\n",
       "      <td>387</td>\n",
       "    </tr>\n",
       "    <tr>\n",
       "      <th>TREASURER</th>\n",
       "      <td>0</td>\n",
       "      <td>28</td>\n",
       "    </tr>\n",
       "    <tr>\n",
       "      <th>WATER MGMNT</th>\n",
       "      <td>1558</td>\n",
       "      <td>356</td>\n",
       "    </tr>\n",
       "  </tbody>\n",
       "</table>\n",
       "</div>"
      ],
      "text/plain": [
       "Salary or Hourly     Hourly  Salary\n",
       "Department                         \n",
       "ADMIN HEARNG              0      38\n",
       "ANIMAL CONTRL            12      63\n",
       "AVIATION               1214     642\n",
       "BOARD OF ELECTION         0     111\n",
       "BOARD OF ETHICS           0       8\n",
       "BUDGET & MGMT             2      42\n",
       "BUILDINGS                 0     258\n",
       "BUSINESS AFFAIRS          7     160\n",
       "CITY CLERK                0      88\n",
       "CITY COUNCIL             74     288\n",
       "COPA                      0     123\n",
       "CULTURAL AFFAIRS         10      64\n",
       "DAIS                    745     288\n",
       "DISABILITIES              1      27\n",
       "FAMILY & SUPPORT        357     299\n",
       "FINANCE                  45     499\n",
       "FIRE                      0    4627\n",
       "HEALTH                    2     465\n",
       "HOUSING                   0      66\n",
       "HOUSING & ECON DEV        3     151\n",
       "HUMAN RELATIONS           0      17\n",
       "HUMAN RESOURCES           0      75\n",
       "INSPECTOR GEN             0      95\n",
       "LAW                      48     350\n",
       "LICENSE APPL COMM         0       1\n",
       "MAYOR'S OFFICE           17      87\n",
       "OEMC                   1077     660\n",
       "POLICE                   24   13824\n",
       "POLICE BOARD              0       2\n",
       "PROCUREMENT               2      82\n",
       "PUBLIC LIBRARY          356     732\n",
       "PUBLIC SAFETY ADMIN      48     196\n",
       "STREETS & SAN          1846     329\n",
       "TRANSPORTN              726     387\n",
       "TREASURER                 0      28\n",
       "WATER MGMNT            1558     356"
      ]
     },
     "execution_count": 12,
     "metadata": {},
     "output_type": "execute_result"
    }
   ],
   "source": [
    "# Create a cross-tabulation (crosstab) of the \"Department\" and \"Salary or Hourly\" columns:\n",
    "department_crosstab = pd.crosstab(salaries_df['Department'], salaries_df['Salary or Hourly'])\n",
    "department_crosstab"
   ]
  },
  {
   "cell_type": "code",
   "execution_count": 13,
   "metadata": {},
   "outputs": [
    {
     "data": {
      "text/html": [
       "<div>\n",
       "<style scoped>\n",
       "    .dataframe tbody tr th:only-of-type {\n",
       "        vertical-align: middle;\n",
       "    }\n",
       "\n",
       "    .dataframe tbody tr th {\n",
       "        vertical-align: top;\n",
       "    }\n",
       "\n",
       "    .dataframe thead th {\n",
       "        text-align: right;\n",
       "    }\n",
       "</style>\n",
       "<table border=\"1\" class=\"dataframe\">\n",
       "  <thead>\n",
       "    <tr style=\"text-align: right;\">\n",
       "      <th>Salary or Hourly</th>\n",
       "      <th>Hourly</th>\n",
       "      <th>Salary</th>\n",
       "    </tr>\n",
       "    <tr>\n",
       "      <th>Department</th>\n",
       "      <th></th>\n",
       "      <th></th>\n",
       "    </tr>\n",
       "  </thead>\n",
       "  <tbody>\n",
       "    <tr>\n",
       "      <th>ANIMAL CONTRL</th>\n",
       "      <td>12</td>\n",
       "      <td>63</td>\n",
       "    </tr>\n",
       "    <tr>\n",
       "      <th>AVIATION</th>\n",
       "      <td>1214</td>\n",
       "      <td>642</td>\n",
       "    </tr>\n",
       "    <tr>\n",
       "      <th>BUDGET &amp; MGMT</th>\n",
       "      <td>2</td>\n",
       "      <td>42</td>\n",
       "    </tr>\n",
       "    <tr>\n",
       "      <th>BUSINESS AFFAIRS</th>\n",
       "      <td>7</td>\n",
       "      <td>160</td>\n",
       "    </tr>\n",
       "    <tr>\n",
       "      <th>CITY COUNCIL</th>\n",
       "      <td>74</td>\n",
       "      <td>288</td>\n",
       "    </tr>\n",
       "    <tr>\n",
       "      <th>CULTURAL AFFAIRS</th>\n",
       "      <td>10</td>\n",
       "      <td>64</td>\n",
       "    </tr>\n",
       "    <tr>\n",
       "      <th>DAIS</th>\n",
       "      <td>745</td>\n",
       "      <td>288</td>\n",
       "    </tr>\n",
       "    <tr>\n",
       "      <th>DISABILITIES</th>\n",
       "      <td>1</td>\n",
       "      <td>27</td>\n",
       "    </tr>\n",
       "    <tr>\n",
       "      <th>FAMILY &amp; SUPPORT</th>\n",
       "      <td>357</td>\n",
       "      <td>299</td>\n",
       "    </tr>\n",
       "    <tr>\n",
       "      <th>FINANCE</th>\n",
       "      <td>45</td>\n",
       "      <td>499</td>\n",
       "    </tr>\n",
       "    <tr>\n",
       "      <th>HEALTH</th>\n",
       "      <td>2</td>\n",
       "      <td>465</td>\n",
       "    </tr>\n",
       "    <tr>\n",
       "      <th>HOUSING &amp; ECON DEV</th>\n",
       "      <td>3</td>\n",
       "      <td>151</td>\n",
       "    </tr>\n",
       "    <tr>\n",
       "      <th>LAW</th>\n",
       "      <td>48</td>\n",
       "      <td>350</td>\n",
       "    </tr>\n",
       "    <tr>\n",
       "      <th>MAYOR'S OFFICE</th>\n",
       "      <td>17</td>\n",
       "      <td>87</td>\n",
       "    </tr>\n",
       "    <tr>\n",
       "      <th>OEMC</th>\n",
       "      <td>1077</td>\n",
       "      <td>660</td>\n",
       "    </tr>\n",
       "    <tr>\n",
       "      <th>POLICE</th>\n",
       "      <td>24</td>\n",
       "      <td>13824</td>\n",
       "    </tr>\n",
       "    <tr>\n",
       "      <th>PROCUREMENT</th>\n",
       "      <td>2</td>\n",
       "      <td>82</td>\n",
       "    </tr>\n",
       "    <tr>\n",
       "      <th>PUBLIC LIBRARY</th>\n",
       "      <td>356</td>\n",
       "      <td>732</td>\n",
       "    </tr>\n",
       "    <tr>\n",
       "      <th>PUBLIC SAFETY ADMIN</th>\n",
       "      <td>48</td>\n",
       "      <td>196</td>\n",
       "    </tr>\n",
       "    <tr>\n",
       "      <th>STREETS &amp; SAN</th>\n",
       "      <td>1846</td>\n",
       "      <td>329</td>\n",
       "    </tr>\n",
       "    <tr>\n",
       "      <th>TRANSPORTN</th>\n",
       "      <td>726</td>\n",
       "      <td>387</td>\n",
       "    </tr>\n",
       "    <tr>\n",
       "      <th>WATER MGMNT</th>\n",
       "      <td>1558</td>\n",
       "      <td>356</td>\n",
       "    </tr>\n",
       "  </tbody>\n",
       "</table>\n",
       "</div>"
      ],
      "text/plain": [
       "Salary or Hourly     Hourly  Salary\n",
       "Department                         \n",
       "ANIMAL CONTRL            12      63\n",
       "AVIATION               1214     642\n",
       "BUDGET & MGMT             2      42\n",
       "BUSINESS AFFAIRS          7     160\n",
       "CITY COUNCIL             74     288\n",
       "CULTURAL AFFAIRS         10      64\n",
       "DAIS                    745     288\n",
       "DISABILITIES              1      27\n",
       "FAMILY & SUPPORT        357     299\n",
       "FINANCE                  45     499\n",
       "HEALTH                    2     465\n",
       "HOUSING & ECON DEV        3     151\n",
       "LAW                      48     350\n",
       "MAYOR'S OFFICE           17      87\n",
       "OEMC                   1077     660\n",
       "POLICE                   24   13824\n",
       "PROCUREMENT               2      82\n",
       "PUBLIC LIBRARY          356     732\n",
       "PUBLIC SAFETY ADMIN      48     196\n",
       "STREETS & SAN          1846     329\n",
       "TRANSPORTN              726     387\n",
       "WATER MGMNT            1558     356"
      ]
     },
     "execution_count": 13,
     "metadata": {},
     "output_type": "execute_result"
    }
   ],
   "source": [
    "# Filter the crosstab to select only the rows where \"Salary or Hourly\" is \"Hourly\" greater than 0 value\n",
    "hourly_departments = department_crosstab[department_crosstab['Hourly'] > 0]\n",
    "hourly_departments"
   ]
  },
  {
   "cell_type": "code",
   "execution_count": 14,
   "metadata": {},
   "outputs": [
    {
     "name": "stdout",
     "output_type": "stream",
     "text": [
      "The department with the most hourly workers is:  STREETS & SAN\n"
     ]
    }
   ],
   "source": [
    "# Find the department with the maximum count of hourly workers\n",
    "department_with_most_hourly_workers = hourly_departments['Hourly'].idxmax()\n",
    "\n",
    "print(\"The department with the most hourly workers is: \", department_with_most_hourly_workers)"
   ]
  },
  {
   "cell_type": "markdown",
   "metadata": {},
   "source": [
    "### The workers from the department with the most hourly workers have complained that their hourly wage is less than $35/hour. Using a one sample t-test, test this one-sided hypothesis at the 95% confidence level."
   ]
  },
  {
   "cell_type": "markdown",
   "metadata": {},
   "source": [
    "#### - Null Hypothesis (H0): hourly wage in the department >= $35 per hour.\n",
    "\n",
    "#### - Alternative Hypothesis (H1): hourly wage in the department < $35 per hour."
   ]
  },
  {
   "cell_type": "code",
   "execution_count": 15,
   "metadata": {},
   "outputs": [
    {
     "name": "stdout",
     "output_type": "stream",
     "text": [
      "Fail to reject the null hypothesis: There is not enough evidence to conclude that the hourly wage in 'STREETS & SAN' department is less than $35/hour.\n"
     ]
    }
   ],
   "source": [
    "# Extract hourly wages for the \"STREETS & SAN\" department (with the most hourly workers)\n",
    "streets_san_hourly_wage = salaries_df[(salaries_df[\"Department\"] == \"STREETS & SAN\") & (salaries_df[\"Salary or Hourly\"] == \"Hourly\")][\"Hourly Rate\"]\n",
    "\n",
    "# Perform a one-sample t-test with a null hypothesis that the hourly wage is greater than or equal to $35\n",
    "# The alternative hypothesis is that the hourly wage is less than $35\n",
    "# We use a 95% confidence level, which corresponds to a significance level alpha of 0.05\n",
    "# Specify the population mean as $35\n",
    "# And the alternative as \"less\" since we are testing if salaries are less\n",
    "t_statistic, p_value = stats.ttest_1samp(streets_san_hourly_wage, 35, alternative=\"less\")\n",
    "\n",
    "# Check if the p-value is less than the significance level alpha (0.05)\n",
    "if p_value < 0.05:\n",
    "    print(\"Reject the null hypothesis: There is evidence that the hourly wage in 'STREETS & SAN' department is less than $35/hour.\")\n",
    "else:\n",
    "    print(\"Fail to reject the null hypothesis: There is not enough evidence to conclude that the hourly wage in 'STREETS & SAN' department is less than $35/hour.\")"
   ]
  },
  {
   "cell_type": "markdown",
   "metadata": {},
   "source": [
    "# Challenge 3: To practice - Constructing Confidence Intervals\n",
    "\n",
    "While testing our hypothesis is a great way to gather empirical evidence for accepting or rejecting the hypothesis, another way to gather evidence is by creating a confidence interval. A confidence interval gives us information about the true mean of the population. So for a 95% confidence interval, we are 95% sure that the mean of the population is within the confidence interval. \n",
    ").\n",
    "\n",
    "To read more about confidence intervals, click [here](https://en.wikipedia.org/wiki/Confidence_interval).\n",
    "\n",
    "\n",
    "### In the cell below, we will construct a 95% confidence interval for the mean hourly wage of all hourly workers. \n",
    "\n",
    "The confidence interval is computed in SciPy using the `t.interval` function. You can read more about this function [here](https://docs.scipy.org/doc/scipy-0.14.0/reference/generated/scipy.stats.t.html).\n",
    "\n",
    "To compute the confidence interval of the hourly wage, use the 0.95 for the confidence level, number of rows - 1 for degrees of freedom, the mean of the sample for the location parameter and the standard error for the scale. The standard error can be computed using [this](https://docs.scipy.org/doc/scipy/reference/generated/scipy.stats.sem.html) function in SciPy."
   ]
  },
  {
   "cell_type": "code",
   "execution_count": 16,
   "metadata": {},
   "outputs": [
    {
     "name": "stdout",
     "output_type": "stream",
     "text": [
      "34.58644971862002\n",
      "0.14694742867989574\n"
     ]
    }
   ],
   "source": [
    "# Extract hourly wages for hourly workers\n",
    "hourly_wages = salaries_df[salaries_df[\"Salary or Hourly\"] == \"Hourly\"][\"Hourly Rate\"]\n",
    "\n",
    "# Calculate the mean and standard error of hourly wages\n",
    "mean_hourly_wage = hourly_wages.mean()\n",
    "std_error = stats.sem(hourly_wages)\n",
    "\n",
    "print(mean_hourly_wage)\n",
    "print(std_error)"
   ]
  },
  {
   "cell_type": "code",
   "execution_count": 17,
   "metadata": {},
   "outputs": [
    {
     "name": "stdout",
     "output_type": "stream",
     "text": [
      "95% Confidence Interval for Mean Hourly Wage: ($34.29839539204317, $34.874504045196865)\n"
     ]
    }
   ],
   "source": [
    "# Set the confidence level (95% confidence interval)\n",
    "confidence_level = 0.95\n",
    "\n",
    "# Calculate the degrees of freedom\n",
    "degrees_of_freedom = len(hourly_wages) - 1\n",
    "\n",
    "# Compute the confidence interval\n",
    "confidence_interval = stats.t.interval(confidence_level, df=degrees_of_freedom, loc=mean_hourly_wage, scale=std_error)\n",
    "\n",
    "# Print the confidence interval\n",
    "print(f\"95% Confidence Interval for Mean Hourly Wage: (${confidence_interval[0]}, ${confidence_interval[1]})\")"
   ]
  },
  {
   "cell_type": "markdown",
   "metadata": {},
   "source": [
    "**We are 95% sure that the mean hourly wage of all hourly workers is between 34.29 and 34.87.**"
   ]
  },
  {
   "cell_type": "markdown",
   "metadata": {},
   "source": [
    "We are reasonably confident that the true mean hourly wage falls within this range, but we cannot be absolutely certain. The 95% refers to the confidence level, which means that if we were to repeat this process many times and calculate a confidence interval in each iteration, we would expect that approximately 95% of those intervals contain the true mean."
   ]
  },
  {
   "cell_type": "markdown",
   "metadata": {},
   "source": [
    "### Now construct the 95% confidence interval for all salaried employeed in the police in the cell below."
   ]
  },
  {
   "cell_type": "code",
   "execution_count": 18,
   "metadata": {},
   "outputs": [
    {
     "name": "stdout",
     "output_type": "stream",
     "text": [
      "88834.11892361111\n",
      "153.0509585263483\n"
     ]
    }
   ],
   "source": [
    "# Filter the DataFrame to include only salaried employees in the police department\n",
    "police_salaries = salaries_df[(salaries_df[\"Salary or Hourly\"] == \"Salary\") & (salaries_df[\"Department\"] == \"POLICE\")][\"Annual Salary\"]\n",
    "\n",
    "# Calculate the mean and standard error of annual salaries for police employees\n",
    "mean_police_salary = police_salaries.mean()\n",
    "std_error_police = stats.sem(police_salaries)\n",
    "\n",
    "print(mean_police_salary)\n",
    "print(std_error_police)"
   ]
  },
  {
   "cell_type": "code",
   "execution_count": 19,
   "metadata": {},
   "outputs": [
    {
     "name": "stdout",
     "output_type": "stream",
     "text": [
      "95% Confidence Interval for Mean Annual Salary in Police Department: ($88534.1182885883, $89134.11955863392)\n"
     ]
    }
   ],
   "source": [
    "# Set the confidence level (95% confidence interval)\n",
    "confidence_level = 0.95\n",
    "\n",
    "# Calculate the degrees of freedom\n",
    "degrees_of_freedom = len(police_salaries) - 1\n",
    "\n",
    "# Compute the confidence interval\n",
    "confidence_interval_police = stats.t.interval(confidence_level, df=degrees_of_freedom, loc=mean_police_salary, scale=std_error_police)\n",
    "\n",
    "# Print the confidence interval\n",
    "print(f\"95% Confidence Interval for Mean Annual Salary in Police Department: (${confidence_interval_police[0]}, ${confidence_interval_police[1]})\")"
   ]
  },
  {
   "cell_type": "markdown",
   "metadata": {},
   "source": [
    "**We are 95% sure that the mean annual salary in police department is between 88534 and 89134.**"
   ]
  },
  {
   "cell_type": "markdown",
   "metadata": {},
   "source": [
    "# Bonus Challenge - Hypothesis Tests of Proportions\n",
    "\n",
    "Another type of one sample test is a hypothesis test of proportions. In this test, we examine whether the proportion of a group in our sample is significantly different than a fraction. \n",
    "\n",
    "You can read more about one sample proportion tests [here](http://sphweb.bumc.bu.edu/otlt/MPH-Modules/BS/SAS/SAS6-CategoricalData/SAS6-CategoricalData2.html).\n",
    "\n",
    "### In the cell below, use the `proportions_ztest` function from `statsmodels` to perform a hypothesis test that will determine whether the number of hourly workers in the City of Chicago is significantly different from 25% at the 95% confidence level."
   ]
  },
  {
   "cell_type": "markdown",
   "metadata": {},
   "source": [
    "**In the codes bellow we calculate the Z-statistic and p-value for a two-sided hypothesis test comparing the proportion of hourly workers to the expected proportion of 25%. If the p-value is less than the chosen significance level (0.05), we would reject the null hypothesis, indicating a significant difference in the proportion of hourly workers. Otherwise, we would fail to reject the null hypothesis, suggesting no significant difference.**"
   ]
  },
  {
   "cell_type": "markdown",
   "metadata": {},
   "source": [
    "#### - H0: proportion of hourly workers in the City of Chicago = 25%. \n",
    "\n",
    "#### - H1: proportion of hourly workers in the City of Chicago <> 25%."
   ]
  },
  {
   "cell_type": "code",
   "execution_count": 20,
   "metadata": {},
   "outputs": [],
   "source": [
    "# Import the necessary library\n",
    "from statsmodels.stats.proportion import proportions_ztest"
   ]
  },
  {
   "cell_type": "code",
   "execution_count": 21,
   "metadata": {},
   "outputs": [],
   "source": [
    "# Calculate the count of hourly workers in the dataframe\n",
    "count_hourly = len(salaries_df[salaries_df[\"Salary or Hourly\"] == \"Hourly\"])\n",
    "\n",
    "# Calculate the total number of observations (total of employees) in the dataframe\n",
    "n = len(salaries_df)\n",
    "\n",
    "# Set the expected proportion to 0.25, which represents 25%\n",
    "expected_proportion = 0.25  "
   ]
  },
  {
   "cell_type": "code",
   "execution_count": 22,
   "metadata": {},
   "outputs": [
    {
     "name": "stdout",
     "output_type": "stream",
     "text": [
      "Z-Statistic: -3.1962453870335\n",
      "p-Value: 0.0013922864704323116\n"
     ]
    }
   ],
   "source": [
    "# Perform the hypothesis test\n",
    "# alternative=\"two-sided\" for a two-tailed test. \n",
    "# Considering whether the actual proportion could be either greater or less than the expected proportion.\n",
    "z_statistic, p_value = proportions_ztest(count_hourly, n, value=expected_proportion, alternative=\"two-sided\")\n",
    "\n",
    "# Print the results\n",
    "print(\"Z-Statistic:\", z_statistic)\n",
    "print(\"p-Value:\", p_value)"
   ]
  },
  {
   "cell_type": "markdown",
   "metadata": {},
   "source": [
    "**Z-Statistic** is a measure used in hypothesis testing to assess if a sample differs significantly from a population or if two samples differ from each other. In our context, it **indicates whether the proportion of hourly workers in our sample is significantly lower than the expected 25%**. The negative value (-3.1962453870335) suggests a significant difference in a negative direction, meaning fewer hourly workers than expected.\n",
    "\n",
    "The magnitude of the Z-statistic matters. **A larger absolute value indicates stronger evidence against the null hypothesis**. In this case, the relatively large absolute **Z-value suggests a statistically significant difference**, with fewer hourly workers than expected."
   ]
  },
  {
   "cell_type": "code",
   "execution_count": 23,
   "metadata": {},
   "outputs": [
    {
     "name": "stdout",
     "output_type": "stream",
     "text": [
      "Reject the null hypothesis: The proportion of hourly workers is significantly different from 25%.\n"
     ]
    }
   ],
   "source": [
    "# Interpret the results\n",
    "alpha = 0.05  # Set the significance level\n",
    "if p_value < alpha:\n",
    "    print(\"Reject the null hypothesis: The proportion of hourly workers is significantly different from 25%.\")\n",
    "else:\n",
    "    print(\"Fail to reject the null hypothesis: There is no significant difference in the proportion of hourly workers and 25%.\")"
   ]
  }
 ],
 "metadata": {
  "kernelspec": {
   "display_name": "Python 3 (ipykernel)",
   "language": "python",
   "name": "python3"
  },
  "language_info": {
   "codemirror_mode": {
    "name": "ipython",
    "version": 3
   },
   "file_extension": ".py",
   "mimetype": "text/x-python",
   "name": "python",
   "nbconvert_exporter": "python",
   "pygments_lexer": "ipython3",
   "version": "3.9.18"
  }
 },
 "nbformat": 4,
 "nbformat_minor": 2
}
